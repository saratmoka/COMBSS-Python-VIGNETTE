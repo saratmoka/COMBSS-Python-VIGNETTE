{
 "cells": [
  {
   "cell_type": "markdown",
   "id": "2e4fd6da",
   "metadata": {},
   "source": [
    "# Load Python Packages\n",
    "\n",
    "Load the required packages as follows:"
   ]
  },
  {
   "cell_type": "code",
   "execution_count": 1,
   "id": "0b099961",
   "metadata": {},
   "outputs": [],
   "source": [
    "import numpy as np\n",
    "from numpy.linalg import inv, norm\n",
    "from scipy.sparse.linalg import cg\n",
    "from scipy.linalg import block_diag\n",
    "from sklearn import metrics"
   ]
  },
  {
   "cell_type": "markdown",
   "id": "f2a528f9",
   "metadata": {},
   "source": [
    "# Load functions useful for COMBSS\n",
    "\n",
    "First make sure to download the file 'combss_functions_github.py' to your current working directory. Then load all the COMBSS related functions by running the following command."
   ]
  },
  {
   "cell_type": "code",
   "execution_count": 11,
   "id": "f541ddbb",
   "metadata": {},
   "outputs": [],
   "source": [
    "from combss_functions_github import *"
   ]
  },
  {
   "cell_type": "markdown",
   "id": "bdd36265",
   "metadata": {},
   "source": [
    "# Generate data from a true model\n",
    "\n",
    "Generate a ultra high-dimensional dataset as follows. It is hard to generate ultra high-dimensional data with the correlation matrix used in the paper on a regular computer. Instead, we use a block diagonal correlation matrix: Let $C$ be a correlation matrix (as decribed in the paper) of dimension $2500 \\times 2500$ with correlation parameter $\\rho$. Then the correlation matrix of the predictors is the block diagonal matrix given by \n",
    "\n",
    "\\begin{equation*}\n",
    "\\Sigma = \\begin{bmatrix}\n",
    "            C & 0 & 0 & 0 \\\\\n",
    "            0 & C & 0 & 0 \\\\\n",
    "            0 & 0 & C & 0 \\\\\n",
    "            0 & 0 & 0 & C\n",
    "         \\end{bmatrix}\n",
    "\\end{equation*}\n",
    "\n",
    "### Define data parameters"
   ]
  },
  {
   "cell_type": "code",
   "execution_count": 3,
   "id": "f11b4ff3",
   "metadata": {},
   "outputs": [],
   "source": [
    "n = 100\n",
    "p = 10000\n",
    "beta_type = 1\n",
    "K0 = 3\n",
    "beta0, model0 = gen_beta0(p, K0, beta_type)\n",
    "\n",
    "snr = 6              \n",
    "rho = 0.5 "
   ]
  },
  {
   "cell_type": "markdown",
   "id": "be2a95c5",
   "metadata": {},
   "source": [
    "### Generate block correlation matrix"
   ]
  },
  {
   "cell_type": "code",
   "execution_count": 4,
   "id": "d6b679b1",
   "metadata": {},
   "outputs": [],
   "source": [
    "p_bk = 2500\n",
    "C = cov_X(p_bk, rho)\n",
    "covX = block_diag(C, C, C, C)"
   ]
  },
  {
   "cell_type": "markdown",
   "id": "28034297",
   "metadata": {},
   "source": [
    "### Generate training data"
   ]
  },
  {
   "cell_type": "code",
   "execution_count": 5,
   "id": "4d491888",
   "metadata": {},
   "outputs": [],
   "source": [
    "meanX_bk = np.zeros(p_bk)\n",
    "noise_var = beta0.T@covX@beta0/snr\n",
    "\n",
    "np.random.seed(12)\n",
    "\n",
    "X1 = np.random.multivariate_normal(meanX_bk, C, n)\n",
    "X2 = np.random.multivariate_normal(meanX_bk, C, n)\n",
    "X3 = np.random.multivariate_normal(meanX_bk, C, n)\n",
    "X4 = np.random.multivariate_normal(meanX_bk, C, n)\n",
    "\n",
    "X_train = np.concatenate((X1, X2, X3, X4), axis=1)\n",
    "y_train = np.array([np.random.normal(X_train[i]@beta0, noise_var) for i in range(n)])"
   ]
  },
  {
   "cell_type": "markdown",
   "id": "f8242b20",
   "metadata": {},
   "source": [
    "# Generate a validation set\n",
    "\n",
    "For tuning the penalty parameter $\\lambda$, we generate a validation set similar to the training set. "
   ]
  },
  {
   "cell_type": "code",
   "execution_count": 6,
   "id": "b323051f",
   "metadata": {},
   "outputs": [],
   "source": [
    "n_test = 5000\n",
    "\n",
    "X1 = np.random.multivariate_normal(meanX_bk, C, n_test)\n",
    "X2 = np.random.multivariate_normal(meanX_bk, C, n_test)\n",
    "X3 = np.random.multivariate_normal(meanX_bk, C, n_test)\n",
    "X4 = np.random.multivariate_normal(meanX_bk, C, n_test)\n",
    "\n",
    "X_test = np.concatenate((X1, X2, X3, X4), axis = 1)\n",
    "y_test = np.array([np.random.normal(X_test[i]@beta0, noise_var) for i in range(n_test)])"
   ]
  },
  {
   "cell_type": "markdown",
   "id": "f67717b9",
   "metadata": {},
   "source": [
    "# Define parameters for COMBSS\n",
    "\n",
    "Now define the parameters of COMBSS algorithm. Recall \n",
    "- $\\tau$ is the paramter used to map the final $\\mathbf t$ vector to a binary vector $\\mathbf s$;\n",
    "- $\\eta$ is the parameter used for speed improvement using truncation approach; "
   ]
  },
  {
   "cell_type": "code",
   "execution_count": 7,
   "id": "b73e135d",
   "metadata": {},
   "outputs": [],
   "source": [
    "tau = 0.5\n",
    "eta = 0.001\n",
    "\n",
    "# Parameters for termination of the gradient descent\n",
    "gd_tol = 0.001           # gd_tol is the tolerance of the GD method for termination.\n",
    "epoch = 10               # GD terminates if the Term_cond is satisfied over epoch number of consecutive iterations.\n",
    "gd_maxiter = 100000      # max number of iterations allowed by the GD method. "
   ]
  },
  {
   "cell_type": "markdown",
   "id": "9f9fb029",
   "metadata": {},
   "source": [
    "# Generate a grid of $\\lambda$ values\n",
    "\n",
    "Following command generates a grid of $\\lambda$ values as described in the paper."
   ]
  },
  {
   "cell_type": "code",
   "execution_count": 8,
   "id": "bf215f62",
   "metadata": {},
   "outputs": [],
   "source": [
    "lam_grid = gen_lam_grid_exp(y_train, 50, 0.8)"
   ]
  },
  {
   "cell_type": "markdown",
   "id": "c98ed99c",
   "metadata": {},
   "source": [
    "# Choose optimizer\n",
    "\n",
    "ADAM optimizer is used if ADAM = True; otherwise, basic gradient descent is used. See the paper for paramters of the optimizers."
   ]
  },
  {
   "cell_type": "code",
   "execution_count": 9,
   "id": "475b0f9f",
   "metadata": {},
   "outputs": [],
   "source": [
    "ADAM = True"
   ]
  },
  {
   "cell_type": "markdown",
   "id": "a2a2591e",
   "metadata": {},
   "source": [
    "# Run COMBSS for all the values of $\\lambda$\n",
    "\n",
    "Now we are ready to run COMBSS with the above selected optimizer. The function 'combss_mse' returns final $\\mathbf t$ vector and the corresponding $\\mathbf s$ vector for each $\\lambda$, as well as the mean squared errors."
   ]
  },
  {
   "cell_type": "code",
   "execution_count": 10,
   "id": "d29e8a73",
   "metadata": {},
   "outputs": [],
   "source": [
    "t_list, model_list, mse_arr = combss_mse(X_train, y_train, X_test, y_test, lam_grid, ADAM=ADAM, tau=tau, eta=eta, epoch=epoch, gd_maxiter=gd_maxiter, gd_tol=gd_tol)\n"
   ]
  },
  {
   "cell_type": "markdown",
   "id": "2955ac5b",
   "metadata": {},
   "source": [
    "# Summary of the results\n",
    "\n",
    "The function 'results' summarises the results. \n",
    "- It prints optimal $\\lambda$ and the corresponding model and the mse;\n",
    "- It plots $\\log(\\lambda)$ vs mse;\n",
    "- It plots $\\log(\\lambda)$ vs model size;\n",
    "- It shows the confusion matrix;"
   ]
  },
  {
   "cell_type": "code",
   "execution_count": 11,
   "id": "aacc80da",
   "metadata": {},
   "outputs": [
    {
     "name": "stdout",
     "output_type": "stream",
     "text": [
      "True model: [   0 3333 6666]\n",
      "Optimal lam: 0.02273598317643565\n",
      "Optimal model: [   0 3333 6666] (size: 3)\n",
      "Optimal MSE: 0.24823142853631003\n"
     ]
    },
    {
     "data": {
      "image/png": "[encoded data removed]",
      "text/plain": [
       "<Figure size 576x720 with 2 Axes>"
      ]
     },
     "metadata": {
      "needs_background": "light"
     },
     "output_type": "display_data"
    },
    {
     "data": {
      "image/png": "[encoded data removed]",
      "text/plain": [
       "<Figure size 576x720 with 2 Axes>"
      ]
     },
     "metadata": {
      "needs_background": "light"
     },
     "output_type": "display_data"
    }
   ],
   "source": [
    "results(beta0, X_train, y_train, lam_grid, model_list, mse_arr)"
   ]
  },
  {
   "cell_type": "code",
   "execution_count": null,
   "id": "001a1f71",
   "metadata": {},
   "outputs": [],
   "source": []
  }
 ],
 "metadata": {
  "kernelspec": {
   "display_name": "Python 3",
   "language": "python",
   "name": "python3"
  },
  "language_info": {
   "codemirror_mode": {
    "name": "ipython",
    "version": 3
   },
   "file_extension": ".py",
   "mimetype": "text/x-python",
   "name": "python",
   "nbconvert_exporter": "python",
   "pygments_lexer": "ipython3",
   "version": "3.9.5"
  }
 },
 "nbformat": 4,
 "nbformat_minor": 5
}
