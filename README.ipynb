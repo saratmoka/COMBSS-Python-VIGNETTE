{
 "cells": [
  {
   "cell_type": "markdown",
   "id": "de972e81",
   "metadata": {},
   "source": [
    "# COMBSS-VIGNETTE\n",
    "\n",
    "Here we provide a first vignette to run COMBSS, a novel algorithm for best subset selection for a linear regression model, using Python. \n",
    "\n",
    "\n",
    "This vignette reproduces some replications from the simulation study presented in our article :\n",
    "\n",
    "> Moka S, Liquet B, Zhu H, and Muller S (2022). COMBSS: Best Subset Selection via Continuous Optimization. *Submitted to arXiv*, 36 pages."
   ]
  },
  {
   "cell_type": "markdown",
   "id": "bdc12534",
   "metadata": {},
   "source": [
    "## Getting Started\n",
    "\n",
    "\n",
    "In this short vignette we use the following Python packages:"
   ]
  },
  {
   "cell_type": "markdown",
   "id": "b2010348",
   "metadata": {},
   "source": [
    "- numpy\n",
    "- scipy\n",
    "- sklearn"
   ]
  },
  {
   "cell_type": "markdown",
   "id": "be360257",
   "metadata": {},
   "source": [
    "##  COMBSS in a low-dimensional setup\n",
    "\n",
    "In this example, we cosnder a dataset with $n = 100$ samples and $p = 20$ predictors, of which $10$ are active predictors.\n",
    "\n",
    "This analysis is presented [here](/Low_dimensional_example.ipynb)"
   ]
  },
  {
   "cell_type": "markdown",
   "id": "20370606",
   "metadata": {},
   "source": [
    "##  COMBSS in a high-dimensional setup\n",
    "\n",
    "In this example, we cosnder a dataset with $n = 100$ samples and $p = 1000$ predictors, of which $10$ are active predictors.\n",
    "\n",
    "This analysis is presented [here](/High_dimensional_example.ipynb)"
   ]
  },
  {
   "cell_type": "markdown",
   "id": "63801564",
   "metadata": {},
   "source": [
    "##  COMBSS in a ultra high-dimensional setup\n",
    "\n",
    "In this example, we cosnder a dataset with $n = 100$ samples and $p = 10,000$ predictors, of which $3$ are active predictors.\n",
    "\n",
    "This analysis is presented [here](/Ultra_High_dimensional_example.ipynb)"
   ]
  }
 ],
 "metadata": {
  "kernelspec": {
   "display_name": "Python 3",
   "language": "python",
   "name": "python3"
  },
  "language_info": {
   "codemirror_mode": {
    "name": "ipython",
    "version": 3
   },
   "file_extension": ".py",
   "mimetype": "text/x-python",
   "name": "python",
   "nbconvert_exporter": "python",
   "pygments_lexer": "ipython3",
   "version": "3.8.11"
  }
 },
 "nbformat": 4,
 "nbformat_minor": 5
}
