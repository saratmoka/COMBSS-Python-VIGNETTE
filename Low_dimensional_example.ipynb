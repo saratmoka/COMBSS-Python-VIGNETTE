{
 "cells": [
  {
   "cell_type": "markdown",
   "id": "2e4fd6da",
   "metadata": {},
   "source": [
    "# Load Python Packages\n",
    "\n",
    "Load the required packages as follows:"
   ]
  },
  {
   "cell_type": "code",
   "execution_count": 1,
   "id": "0b099961",
   "metadata": {},
   "outputs": [],
   "source": [
    "import numpy as np\n",
    "from numpy.linalg import inv, norm\n",
    "from scipy.sparse.linalg import cg\n",
    "from sklearn import metrics"
   ]
  },
  {
   "cell_type": "markdown",
   "id": "f2a528f9",
   "metadata": {},
   "source": [
    "# Load functions useful for COMBSS\n",
    "\n",
    "First make sure to download the file 'combss_functions_github.py' to your working directory. Then load all the COMBSS related functions by running the following command."
   ]
  },
  {
   "cell_type": "code",
   "execution_count": 2,
   "id": "f541ddbb",
   "metadata": {},
   "outputs": [],
   "source": [
    "from combss_functions_github import *"
   ]
  },
  {
   "cell_type": "markdown",
   "id": "bdd36265",
   "metadata": {},
   "source": [
    "# Generate data from a true model\n",
    "\n",
    "Generate a low-dimensional dataset as follows:"
   ]
  },
  {
   "cell_type": "code",
   "execution_count": 3,
   "id": "f11b4ff3",
   "metadata": {},
   "outputs": [],
   "source": [
    "n = 100\n",
    "p = 20\n",
    "beta_type = 1\n",
    "K0 = 10\n",
    "beta0, model0 = gen_beta0(p, K0, beta_type)\n",
    "\n",
    "snr = 6              \n",
    "rho = 0.5 \n",
    "\n",
    "meanX = np.zeros(p)\n",
    "covX = cov_X(p, rho)\n",
    "noise_var = beta0.T@covX@beta0/snr\n",
    "\n",
    "np.random.seed(12)\n",
    "\n",
    "data_train = gen_data(n, p, meanX, covX, noise_var, beta0)\n",
    "X_train = data_train[0]\n",
    "y_train = data_train[1]"
   ]
  },
  {
   "cell_type": "markdown",
   "id": "f8242b20",
   "metadata": {},
   "source": [
    "# Generate a validation set\n",
    "\n",
    "For tuning the penalty parameter $\\lambda$, we generate a validation set as follows. "
   ]
  },
  {
   "cell_type": "code",
   "execution_count": 4,
   "id": "b323051f",
   "metadata": {},
   "outputs": [],
   "source": [
    "n_test = 5000\n",
    "\n",
    "data_test = gen_data(n_test, p, meanX, covX, noise_var, beta0)\n",
    "X_test = data_test[0]\n",
    "y_test = data_test[1]"
   ]
  },
  {
   "cell_type": "markdown",
   "id": "f67717b9",
   "metadata": {},
   "source": [
    "# Define parameters for COMBSS\n",
    "\n",
    "Now define the parameters of COMBSS algorithm. Recall that\n",
    "- $\\tau$ is the paramter used to map the final $\\mathbf t$ vector to a binary vector $\\mathbf s$;\n",
    "- $\\eta$ is the parameter used for speed improvement using truncation approach; "
   ]
  },
  {
   "cell_type": "code",
   "execution_count": 5,
   "id": "b73e135d",
   "metadata": {},
   "outputs": [],
   "source": [
    "tau = 0.5\n",
    "eta = 0.001\n",
    "\n",
    "# Parameters for termination of the gradient descent\n",
    "gd_tol = 0.001           # gd_tol is the tolerance of the GD method for termination.\n",
    "epoch = 10               # GD terminates if the Term_cond is satisfied over epoch number of consecutive iterations.\n",
    "gd_maxiter = 1000        # max number of iterations allowed by the GD method. \n",
    "                         # This is not crucial as the algorithm terminates \n",
    "                         # with smaller number ietartions"
   ]
  },
  {
   "cell_type": "markdown",
   "id": "9f9fb029",
   "metadata": {},
   "source": [
    "# Generate a grid of $\\lambda$ values\n",
    "\n",
    "Following command generates a grid of $\\lambda$ values as described in the paper."
   ]
  },
  {
   "cell_type": "code",
   "execution_count": 6,
   "id": "bf215f62",
   "metadata": {},
   "outputs": [],
   "source": [
    "lam_grid = gen_lam_grid_exp(y_train, 50, 0.8)"
   ]
  },
  {
   "cell_type": "markdown",
   "id": "c98ed99c",
   "metadata": {},
   "source": [
    "# Choose optimizer\n",
    "\n",
    "ADAM optimizer is used if ADAM = True; otherwise, basic gradient descent is used. See the paper for paramters of the optimizers."
   ]
  },
  {
   "cell_type": "code",
   "execution_count": 7,
   "id": "475b0f9f",
   "metadata": {},
   "outputs": [],
   "source": [
    "ADAM = True"
   ]
  },
  {
   "cell_type": "markdown",
   "id": "a2a2591e",
   "metadata": {},
   "source": [
    "# Run COMBSS for all the values of $\\lambda$\n",
    "\n",
    "Now we are ready to run COMBSS with the above selected optimizer. The function 'combss_mse' returns final $\\mathbf t$ vector and the corresponding $\\mathbf s$ vector for each $\\lambda$, as well as the mean squared errors."
   ]
  },
  {
   "cell_type": "code",
   "execution_count": 8,
   "id": "d29e8a73",
   "metadata": {},
   "outputs": [],
   "source": [
    "t_list, s_list, mse_arr = combss_mse(X_train, y_train, X_test, y_test, lam_grid, ADAM=ADAM, tau=tau, eta=eta, epoch=epoch, gd_maxiter=gd_maxiter, gd_tol=gd_tol)\n"
   ]
  },
  {
   "cell_type": "markdown",
   "id": "2955ac5b",
   "metadata": {},
   "source": [
    "# Summary of the results\n",
    "\n",
    "The function 'results' summarises the results. \n",
    "- It prints optimal $\\lambda$ and the corresponding model and the mse;\n",
    "- It plots $\\log(\\lambda)$ vs mse;\n",
    "- It plots $\\log(\\lambda)$ vs model size;\n",
    "- It shows the confusion matrix;"
   ]
  },
  {
   "cell_type": "code",
   "execution_count": 9,
   "id": "aacc80da",
   "metadata": {},
   "outputs": [
    {
     "name": "stdout",
     "output_type": "stream",
     "text": [
      "Optimal lam: 0.13595223855941158\n",
      "Optimal model: [ 0  2  4  6  8 10 12 14 16 18] (size: 10)\n",
      "Optimal MSE: 7.3718833809556905\n"
     ]
    },
    {
     "data": {
      "image/png": "[encoded data removed]",
      "text/plain": [
       "<Figure size 576x720 with 2 Axes>"
      ]
     },
     "metadata": {
      "needs_background": "light"
     },
     "output_type": "display_data"
    },
    {
     "data": {
      "image/png": "[encoded data removed]",
      "text/plain": [
       "<Figure size 576x720 with 2 Axes>"
      ]
     },
     "metadata": {
      "needs_background": "light"
     },
     "output_type": "display_data"
    }
   ],
   "source": [
    "results(beta0, X_train, y_train, lam_grid, s_list, mse_arr)"
   ]
  },
  {
   "cell_type": "code",
   "execution_count": null,
   "id": "001a1f71",
   "metadata": {},
   "outputs": [],
   "source": []
  }
 ],
 "metadata": {
  "kernelspec": {
   "display_name": "Python 3",
   "language": "python",
   "name": "python3"
  },
  "language_info": {
   "codemirror_mode": {
    "name": "ipython",
    "version": 3
   },
   "file_extension": ".py",
   "mimetype": "text/x-python",
   "name": "python",
   "nbconvert_exporter": "python",
   "pygments_lexer": "ipython3",
   "version": "3.9.5"
  }
 },
 "nbformat": 4,
 "nbformat_minor": 5
}
