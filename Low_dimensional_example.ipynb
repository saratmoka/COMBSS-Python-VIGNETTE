{
 "cells": [
  {
   "cell_type": "markdown",
   "id": "2e4fd6da",
   "metadata": {},
   "source": [
    "# Load Python Packages\n",
    "\n",
    "Load the required packages as follows"
   ]
  },
  {
   "cell_type": "code",
   "execution_count": 1,
   "id": "0b099961",
   "metadata": {},
   "outputs": [],
   "source": [
    "import numpy as np\n",
    "from numpy.linalg import norm\n",
    "from scipy.sparse.linalg import cg\n",
    "from sklearn import metrics"
   ]
  },
  {
   "cell_type": "markdown",
   "id": "f2a528f9",
   "metadata": {},
   "source": [
    "# Load functions useful for COMBSS\n",
    "\n",
    "First make sure that the file 'combss_functions_github.py' is stored the working directory. Then load the all the COMBSS related functions by running the following command."
   ]
  },
  {
   "cell_type": "code",
   "execution_count": 2,
   "id": "f541ddbb",
   "metadata": {},
   "outputs": [],
   "source": [
    "from combss_functions_github import *"
   ]
  },
  {
   "cell_type": "markdown",
   "id": "bdd36265",
   "metadata": {},
   "source": [
    "# Generate data from a true model\n",
    "\n",
    "Generate a low-dimensional dataset as follows."
   ]
  },
  {
   "cell_type": "code",
   "execution_count": 9,
   "id": "f11b4ff3",
   "metadata": {},
   "outputs": [],
   "source": [
    "n = 100\n",
    "p = 20\n",
    "beta_type = 1\n",
    "K0 = 10\n",
    "beta0, model0 = gen_beta0(p, K0, beta_type)\n",
    "\n",
    "snr = 6              \n",
    "rho = 0.5 \n",
    "\n",
    "meanX = np.zeros(p)\n",
    "covX = cov_X(p, rho)\n",
    "noise_var = beta0.T@covX@beta0/snr\n",
    "\n",
    "np.random.seed(1)\n",
    "\n",
    "data_train = gen_data(n, p, meanX, covX, noise_var, beta0)\n",
    "X_train = data_train[0]\n",
    "y_train = data_train[1]"
   ]
  },
  {
   "cell_type": "markdown",
   "id": "c9cd716f",
   "metadata": {},
   "source": [
    "# Generate a validation set\n",
    "\n",
    "For tuning the penalty parameter $\\lambda$, we generate a validation set as follows. "
   ]
  },
  {
   "cell_type": "code",
   "execution_count": 12,
   "id": "b323051f",
   "metadata": {},
   "outputs": [],
   "source": [
    "n_test = 5000\n",
    "\n",
    "data_test = gen_data(n_test, p, meanX, covX, noise_var, beta0)\n",
    "X_test = data_test[0]\n",
    "y_test = data_test[1]"
   ]
  },
  {
   "cell_type": "markdown",
   "id": "a2998f3b",
   "metadata": {},
   "source": [
    "# Define parameters for COMBSS\n",
    "\n",
    "Now define the parameters of COMBSS algorithm. Recall \n",
    "- $\\alpha$ is the learning rate of the gradient descent (GD) method;\n",
    "- $\\tau$ is the paramter used to map the final $\\mathbf t$ vector to a binary vector $\\mathbf s$;\n",
    "- $\\eta$ is the parameter used for speed improvement using truncation approach; "
   ]
  },
  {
   "cell_type": "code",
   "execution_count": 15,
   "id": "3cc7199a",
   "metadata": {},
   "outputs": [],
   "source": [
    "alpha = 0.1           \n",
    "tau = 0.5\n",
    "eta = 0.001\n",
    "\n",
    "# Parameters of the gradient descent termination\n",
    "gd_tol = 0.001           # gd_tol is the tolerance of the GD method for termination.\n",
    "epoch = 10               # GD terminates if the Term_cond is satisfied over epoch number of consecutive iterations.\n",
    "n_gd_iter = 1000         # max number of iterations allowed by the GD method. \n",
    "                         # This is not crucial as the algorithm terminates \n",
    "                         # with smaller number ietartions"
   ]
  },
  {
   "cell_type": "markdown",
   "id": "6673a5ae",
   "metadata": {},
   "source": [
    "# Generate a grid of $\\lambda$ values\n",
    "\n",
    "Following command generates a grid of $\\lambda$ values as described in the paper."
   ]
  },
  {
   "cell_type": "code",
   "execution_count": 16,
   "id": "0313589f",
   "metadata": {},
   "outputs": [],
   "source": [
    "lam_grid = gen_lam_grid_exp(y_train, 50, 0.8)"
   ]
  },
  {
   "cell_type": "code",
   "execution_count": 18,
   "id": "25160f95",
   "metadata": {},
   "outputs": [
    {
     "data": {
      "text/plain": [
       "(51,)"
      ]
     },
     "execution_count": 18,
     "metadata": {},
     "output_type": "execute_result"
    }
   ],
   "source": []
  },
  {
   "cell_type": "code",
   "execution_count": null,
   "id": "d7f748ce",
   "metadata": {},
   "outputs": [],
   "source": []
  }
 ],
 "metadata": {
  "kernelspec": {
   "display_name": "Python 3",
   "language": "python",
   "name": "python3"
  },
  "language_info": {
   "codemirror_mode": {
    "name": "ipython",
    "version": 3
   },
   "file_extension": ".py",
   "mimetype": "text/x-python",
   "name": "python",
   "nbconvert_exporter": "python",
   "pygments_lexer": "ipython3",
   "version": "3.9.5"
  }
 },
 "nbformat": 4,
 "nbformat_minor": 5
}
